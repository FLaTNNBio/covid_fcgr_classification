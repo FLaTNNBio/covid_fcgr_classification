{
 "cells": [
  {
   "cell_type": "code",
   "execution_count": 1,
   "id": "0987b6b7-cd89-4339-a847-4f3df6f74178",
   "metadata": {},
   "outputs": [],
   "source": [
    "from complexcgr import FCGR\n",
    "from itertools import product\n",
    "from PIL import Image"
   ]
  },
  {
   "cell_type": "code",
   "execution_count": 2,
   "id": "3a3f8ea9-9109-403c-b415-9c19c2d1da47",
   "metadata": {},
   "outputs": [
    {
     "ename": "KeyboardInterrupt",
     "evalue": "",
     "output_type": "error",
     "traceback": [
      "\u001b[0;31m---------------------------------------------------------------------------\u001b[0m",
      "\u001b[0;31mKeyboardInterrupt\u001b[0m                         Traceback (most recent call last)",
      "Cell \u001b[0;32mIn[2], line 7\u001b[0m\n\u001b[1;32m      5\u001b[0m kmer2pixel \u001b[38;5;241m=\u001b[39m \u001b[38;5;28mdict\u001b[39m()\n\u001b[1;32m      6\u001b[0m \u001b[38;5;28;01mfor\u001b[39;00m kmer \u001b[38;5;129;01min\u001b[39;00m kmers_list:\n\u001b[0;32m----> 7\u001b[0m     kmer2pixel[kmer] \u001b[38;5;241m=\u001b[39m FCGR\u001b[38;5;241m.\u001b[39mpixel_position(\u001b[43mFCGR\u001b[49m\u001b[43m(\u001b[49m\u001b[43mk\u001b[49m\u001b[43m)\u001b[49m, kmer)\n\u001b[1;32m      8\u001b[0m     \u001b[38;5;66;03m#print(f\"Kmer: {kmer}, position: {kmer2pixel[kmer]}\")\u001b[39;00m\n",
      "File \u001b[0;32m~/.local/lib/python3.11/site-packages/complexcgr/fcgr.py:26\u001b[0m, in \u001b[0;36mFCGR.__init__\u001b[0;34m(self, k, use_canonical_kmers, bits)\u001b[0m\n\u001b[1;32m     24\u001b[0m     \u001b[38;5;28mself\u001b[39m\u001b[38;5;241m.\u001b[39mkmer2pixel \u001b[38;5;241m=\u001b[39m \u001b[38;5;28mself\u001b[39m\u001b[38;5;241m.\u001b[39m_kmer2pixel_canonical_kmers()        \n\u001b[1;32m     25\u001b[0m \u001b[38;5;28;01melse\u001b[39;00m:\n\u001b[0;32m---> 26\u001b[0m     \u001b[38;5;28mself\u001b[39m\u001b[38;5;241m.\u001b[39mkmer2pixel \u001b[38;5;241m=\u001b[39m \u001b[38;5;28;43mself\u001b[39;49m\u001b[38;5;241;43m.\u001b[39;49m\u001b[43mkmer2pixel_position\u001b[49m\u001b[43m(\u001b[49m\u001b[43m)\u001b[49m\n\u001b[1;32m     28\u001b[0m \u001b[38;5;28mself\u001b[39m\u001b[38;5;241m.\u001b[39mbits \u001b[38;5;241m=\u001b[39m bits\n\u001b[1;32m     29\u001b[0m \u001b[38;5;28mself\u001b[39m\u001b[38;5;241m.\u001b[39mmax_color \u001b[38;5;241m=\u001b[39m \u001b[38;5;241m2\u001b[39m\u001b[38;5;241m*\u001b[39m\u001b[38;5;241m*\u001b[39mbits\u001b[38;5;241m-\u001b[39m\u001b[38;5;241m1\u001b[39m\n",
      "File \u001b[0;32m~/.local/lib/python3.11/site-packages/complexcgr/fcgr.py:75\u001b[0m, in \u001b[0;36mFCGR.kmer2pixel_position\u001b[0;34m(self)\u001b[0m\n\u001b[1;32m     73\u001b[0m kmer2pixel \u001b[38;5;241m=\u001b[39m \u001b[38;5;28mdict\u001b[39m()\n\u001b[1;32m     74\u001b[0m \u001b[38;5;28;01mfor\u001b[39;00m kmer \u001b[38;5;129;01min\u001b[39;00m \u001b[38;5;28mself\u001b[39m\u001b[38;5;241m.\u001b[39mkmers:\n\u001b[0;32m---> 75\u001b[0m     kmer2pixel[kmer] \u001b[38;5;241m=\u001b[39m \u001b[38;5;28;43mself\u001b[39;49m\u001b[38;5;241;43m.\u001b[39;49m\u001b[43mpixel_position\u001b[49m\u001b[43m(\u001b[49m\u001b[43mkmer\u001b[49m\u001b[43m)\u001b[49m\n\u001b[1;32m     76\u001b[0m \u001b[38;5;28;01mreturn\u001b[39;00m kmer2pixel\n",
      "File \u001b[0;32m~/.local/lib/python3.11/site-packages/complexcgr/fcgr.py:66\u001b[0m, in \u001b[0;36mFCGR.pixel_position\u001b[0;34m(self, kmer)\u001b[0m\n\u001b[1;32m     64\u001b[0m np_coords \u001b[38;5;241m=\u001b[39m np\u001b[38;5;241m.\u001b[39marray([(x \u001b[38;5;241m+\u001b[39m \u001b[38;5;241m1\u001b[39m)\u001b[38;5;241m/\u001b[39m\u001b[38;5;241m2\u001b[39m, (y \u001b[38;5;241m+\u001b[39m \u001b[38;5;241m1\u001b[39m)\u001b[38;5;241m/\u001b[39m\u001b[38;5;241m2\u001b[39m]) \u001b[38;5;66;03m# move coordinates from [-1,1]² to [0,1]²\u001b[39;00m\n\u001b[1;32m     65\u001b[0m np_coords \u001b[38;5;241m*\u001b[39m\u001b[38;5;241m=\u001b[39m \u001b[38;5;241m2\u001b[39m\u001b[38;5;241m*\u001b[39m\u001b[38;5;241m*\u001b[39m\u001b[38;5;28mself\u001b[39m\u001b[38;5;241m.\u001b[39mk \u001b[38;5;66;03m# rescale coordinates from [0,1]² to [0,2**k]²\u001b[39;00m\n\u001b[0;32m---> 66\u001b[0m x,y \u001b[38;5;241m=\u001b[39m \u001b[43mnp\u001b[49m\u001b[38;5;241;43m.\u001b[39;49m\u001b[43mceil\u001b[49m\u001b[43m(\u001b[49m\u001b[43mnp_coords\u001b[49m\u001b[43m)\u001b[49m \u001b[38;5;66;03m# round to upper integer \u001b[39;00m\n\u001b[1;32m     68\u001b[0m \u001b[38;5;66;03m# Turn coordinates (cx,cy) into pixel (px,py) position \u001b[39;00m\n\u001b[1;32m     69\u001b[0m \u001b[38;5;66;03m# px = 2**k-cy+1, py = cx\u001b[39;00m\n\u001b[1;32m     70\u001b[0m \u001b[38;5;28;01mreturn\u001b[39;00m \u001b[38;5;241m2\u001b[39m\u001b[38;5;241m*\u001b[39m\u001b[38;5;241m*\u001b[39m\u001b[38;5;28mself\u001b[39m\u001b[38;5;241m.\u001b[39mk\u001b[38;5;241m-\u001b[39m\u001b[38;5;28mint\u001b[39m(y)\u001b[38;5;241m+\u001b[39m\u001b[38;5;241m1\u001b[39m, \u001b[38;5;28mint\u001b[39m(x)\n",
      "\u001b[0;31mKeyboardInterrupt\u001b[0m: "
     ]
    }
   ],
   "source": [
    "#PER UNA VERSIONE PIU' COMPLETA\n",
    "#Creazione del dizionario con tutti i kmers e le loro posizioni in pixel\n",
    "k = 9\n",
    "kmers_list = list(\"\".join(kmer) for kmer in product(\"ACGT\", repeat=k))\n",
    "\n",
    "kmer2pixel = dict()\n",
    "for kmer in kmers_list:\n",
    "    kmer2pixel[kmer] = FCGR.pixel_position(FCGR(k), kmer)\n",
    "    #print(f\"Kmer: {kmer}, position: {kmer2pixel[kmer]}\")"
   ]
  },
  {
   "cell_type": "code",
   "execution_count": 30,
   "id": "b94c8826-0826-4250-a03d-5a358f1a3b79",
   "metadata": {},
   "outputs": [],
   "source": [
    "#Riporto la lista dei marker trovati per un clade\n",
    "list_marker = [\"TTTACCCTC\", \"TCTACCCTC\", \"TTTCGTCCG\", \"TCTTTCTAC\", \"TCTTTTTAC\", \"TTTGTCCGG\"]"
   ]
  },
  {
   "cell_type": "code",
   "execution_count": 31,
   "id": "8af28185-e54c-49db-8678-be856f0e23eb",
   "metadata": {},
   "outputs": [
    {
     "name": "stdout",
     "output_type": "stream",
     "text": [
      "Kmer: TTTACCCTC, x: 136, y:144\n",
      "Kmer: TCTACCCTC, x: 134, y:142\n",
      "Kmer: TTTCGTCCG, x: 312, y:40\n",
      "Kmer: TCTTTCTAC, x: 94, y:222\n",
      "Kmer: TCTTTTTAC, x: 126, y:254\n",
      "Kmer: TTTGTCCGG, x: 416, y:24\n",
      "Kmer: AGCAAACCT, x: 259, y:314\n",
      "Kmer: GTTTTGTCC, x: 128, y:95\n",
      "Kmer: TTTGCTACC, x: 48, y:104\n"
     ]
    }
   ],
   "source": [
    "image_path = r\"/media/musimathicslab/Seagate Basic/fcgr_snmg/9Kmer/GK/img/hCoV-19_Brazil_DF-LACENDF_UnB-18984342_533_2021_EPI_ISL_18217716_2021-08-19.jpeg\"\n",
    "save_path = r\"/home/musimathicslab/Desktop/Img/GK/R&C/9Kmer/plot_marker_GK_100.png\"\n",
    "\n",
    "#Apro l'immagine\n",
    "img = Image.open(image_path)\n",
    "\n",
    "#Cambio la modalità da grayscale a RGB\n",
    "if img.mode == \"L\":\n",
    "    img = img.convert(\"RGB\")\n",
    "\n",
    "#Carico i pixel\n",
    "pixels = img.load()\n",
    "\n",
    "#Per ogni kmer nella lista cambio il colore a rosso\n",
    "for kmer in list_marker:\n",
    "    #Ritrovo la posizione del kmer\n",
    "    x, y = FCGR.pixel_position(FCGR(k=9), kmer)\n",
    "    print(f\"Kmer: {kmer}, x: {x}, y:{y}\")\n",
    "    #Cambio il colore a rosso\n",
    "    pixels[x,y] = (255,0,0)\n",
    "\n",
    "#Visualizzo l'immagine\n",
    "#img.show()\n",
    "\n",
    "#Salvo l'immagine\n",
    "img.save(save_path)"
   ]
  }
 ],
 "metadata": {
  "kernelspec": {
   "display_name": "Python 3 (ipykernel)",
   "language": "python",
   "name": "python3"
  },
  "language_info": {
   "codemirror_mode": {
    "name": "ipython",
    "version": 3
   },
   "file_extension": ".py",
   "mimetype": "text/x-python",
   "name": "python",
   "nbconvert_exporter": "python",
   "pygments_lexer": "ipython3",
   "version": "3.11.11"
  }
 },
 "nbformat": 4,
 "nbformat_minor": 5
}
