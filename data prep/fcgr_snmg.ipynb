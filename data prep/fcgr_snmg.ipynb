{
 "cells": [
  {
   "cell_type": "code",
   "execution_count": 1,
   "id": "727f7be7-d0d8-4058-8633-76314f5a37f6",
   "metadata": {},
   "outputs": [
    {
     "name": "stdout",
     "output_type": "stream",
     "text": [
      "Defaulting to user installation because normal site-packages is not writeable\n",
      "Requirement already satisfied: Bio in /home/musimathicslab/.local/lib/python3.11/site-packages (1.7.1)\n",
      "Requirement already satisfied: biopython>=1.80 in /home/musimathicslab/.local/lib/python3.11/site-packages (from Bio) (1.84)\n",
      "Requirement already satisfied: gprofiler-official in /home/musimathicslab/.local/lib/python3.11/site-packages (from Bio) (1.0.0)\n",
      "Requirement already satisfied: mygene in /home/musimathicslab/.local/lib/python3.11/site-packages (from Bio) (3.2.2)\n",
      "Requirement already satisfied: pandas in /home/musimathicslab/.local/lib/python3.11/site-packages (from Bio) (1.5.3)\n",
      "Requirement already satisfied: pooch in /home/musimathicslab/.local/lib/python3.11/site-packages (from Bio) (1.8.2)\n",
      "Requirement already satisfied: requests in /home/musimathicslab/.local/lib/python3.11/site-packages (from Bio) (2.32.3)\n",
      "Requirement already satisfied: tqdm in /home/musimathicslab/.local/lib/python3.11/site-packages (from Bio) (4.67.0)\n",
      "Requirement already satisfied: numpy in /home/musimathicslab/.local/lib/python3.11/site-packages (from biopython>=1.80->Bio) (1.24.3)\n",
      "Requirement already satisfied: biothings-client>=0.2.6 in /home/musimathicslab/.local/lib/python3.11/site-packages (from mygene->Bio) (0.3.1)\n",
      "Requirement already satisfied: python-dateutil>=2.8.1 in /home/musimathicslab/.local/lib/python3.11/site-packages (from pandas->Bio) (2.9.0.post0)\n",
      "Requirement already satisfied: pytz>=2020.1 in /usr/lib/python3/dist-packages (from pandas->Bio) (2022.1)\n",
      "Requirement already satisfied: platformdirs>=2.5.0 in /home/musimathicslab/.local/lib/python3.11/site-packages (from pooch->Bio) (4.3.6)\n",
      "Requirement already satisfied: packaging>=20.0 in /home/musimathicslab/.local/lib/python3.11/site-packages (from pooch->Bio) (24.1)\n",
      "Requirement already satisfied: charset-normalizer<4,>=2 in /home/musimathicslab/.local/lib/python3.11/site-packages (from requests->Bio) (3.4.0)\n",
      "Requirement already satisfied: idna<4,>=2.5 in /usr/lib/python3/dist-packages (from requests->Bio) (3.3)\n",
      "Requirement already satisfied: urllib3<3,>=1.21.1 in /usr/lib/python3/dist-packages (from requests->Bio) (1.26.5)\n",
      "Requirement already satisfied: certifi>=2017.4.17 in /usr/lib/python3/dist-packages (from requests->Bio) (2020.6.20)\n",
      "Requirement already satisfied: six>=1.5 in /usr/lib/python3/dist-packages (from python-dateutil>=2.8.1->pandas->Bio) (1.16.0)\n",
      "\n",
      "\u001b[1m[\u001b[0m\u001b[34;49mnotice\u001b[0m\u001b[1;39;49m]\u001b[0m\u001b[39;49m A new release of pip is available: \u001b[0m\u001b[31;49m24.3.1\u001b[0m\u001b[39;49m -> \u001b[0m\u001b[32;49m25.0.1\u001b[0m\n",
      "\u001b[1m[\u001b[0m\u001b[34;49mnotice\u001b[0m\u001b[1;39;49m]\u001b[0m\u001b[39;49m To update, run: \u001b[0m\u001b[32;49mpython3.11 -m pip install --upgrade pip\u001b[0m\n",
      "Note: you may need to restart the kernel to use updated packages.\n"
     ]
    }
   ],
   "source": [
    "pip install Bio"
   ]
  },
  {
   "cell_type": "code",
   "execution_count": 2,
   "id": "757e5064-471d-4a54-8989-42c640ab4c5a",
   "metadata": {},
   "outputs": [
    {
     "name": "stdout",
     "output_type": "stream",
     "text": [
      "Defaulting to user installation because normal site-packages is not writeable\n",
      "Requirement already satisfied: complexcgr in /home/musimathicslab/.local/lib/python3.11/site-packages (0.8.0)\n",
      "Requirement already satisfied: Pillow<11.0,>=10.0 in /home/musimathicslab/.local/lib/python3.11/site-packages (from complexcgr) (10.4.0)\n",
      "Requirement already satisfied: biopython<2.0,>=1.79 in /home/musimathicslab/.local/lib/python3.11/site-packages (from complexcgr) (1.84)\n",
      "Requirement already satisfied: matplotlib<4.0.0,>=3.4.2 in /home/musimathicslab/.local/lib/python3.11/site-packages (from complexcgr) (3.7.1)\n",
      "Requirement already satisfied: numpy<2.0.0,>=1.22.3 in /home/musimathicslab/.local/lib/python3.11/site-packages (from complexcgr) (1.24.3)\n",
      "Requirement already satisfied: tqdm<5.0.0,>=4.61.2 in /home/musimathicslab/.local/lib/python3.11/site-packages (from complexcgr) (4.67.0)\n",
      "Requirement already satisfied: contourpy>=1.0.1 in /home/musimathicslab/.local/lib/python3.11/site-packages (from matplotlib<4.0.0,>=3.4.2->complexcgr) (1.3.1)\n",
      "Requirement already satisfied: cycler>=0.10 in /home/musimathicslab/.local/lib/python3.11/site-packages (from matplotlib<4.0.0,>=3.4.2->complexcgr) (0.12.1)\n",
      "Requirement already satisfied: fonttools>=4.22.0 in /home/musimathicslab/.local/lib/python3.11/site-packages (from matplotlib<4.0.0,>=3.4.2->complexcgr) (4.54.1)\n",
      "Requirement already satisfied: kiwisolver>=1.0.1 in /home/musimathicslab/.local/lib/python3.11/site-packages (from matplotlib<4.0.0,>=3.4.2->complexcgr) (1.4.7)\n",
      "Requirement already satisfied: packaging>=20.0 in /home/musimathicslab/.local/lib/python3.11/site-packages (from matplotlib<4.0.0,>=3.4.2->complexcgr) (24.1)\n",
      "Requirement already satisfied: pyparsing>=2.3.1 in /usr/lib/python3/dist-packages (from matplotlib<4.0.0,>=3.4.2->complexcgr) (2.4.7)\n",
      "Requirement already satisfied: python-dateutil>=2.7 in /home/musimathicslab/.local/lib/python3.11/site-packages (from matplotlib<4.0.0,>=3.4.2->complexcgr) (2.9.0.post0)\n",
      "Requirement already satisfied: six>=1.5 in /usr/lib/python3/dist-packages (from python-dateutil>=2.7->matplotlib<4.0.0,>=3.4.2->complexcgr) (1.16.0)\n",
      "\n",
      "\u001b[1m[\u001b[0m\u001b[34;49mnotice\u001b[0m\u001b[1;39;49m]\u001b[0m\u001b[39;49m A new release of pip is available: \u001b[0m\u001b[31;49m24.3.1\u001b[0m\u001b[39;49m -> \u001b[0m\u001b[32;49m25.0.1\u001b[0m\n",
      "\u001b[1m[\u001b[0m\u001b[34;49mnotice\u001b[0m\u001b[1;39;49m]\u001b[0m\u001b[39;49m To update, run: \u001b[0m\u001b[32;49mpython3.11 -m pip install --upgrade pip\u001b[0m\n",
      "Note: you may need to restart the kernel to use updated packages.\n"
     ]
    }
   ],
   "source": [
    "pip install complexcgr"
   ]
  },
  {
   "cell_type": "code",
   "execution_count": 3,
   "id": "5c6944e0-63f8-4e40-82db-23ecdd70b5b6",
   "metadata": {},
   "outputs": [],
   "source": [
    "import sys\n",
    "import os\n",
    "from Bio import SeqIO\n",
    "from complexcgr import FCGR\n",
    "import matplotlib.pyplot as plt\n",
    "import re"
   ]
  },
  {
   "cell_type": "code",
   "execution_count": 4,
   "id": "882057e9-8077-455c-9198-890561560fd0",
   "metadata": {},
   "outputs": [],
   "source": [
    "# Funzione per pulire il nome del file, sostituendo caratteri non validi\n",
    "def clean_filename(filename):\n",
    "    # Sostituisce i caratteri non validi con underscore\n",
    "    return re.sub(r'[<>:\"/\\\\|?*]', '_', filename)"
   ]
  },
  {
   "cell_type": "code",
   "execution_count": 5,
   "id": "0f5a5fd6-36ff-4bec-ae5b-cb38b0d7580d",
   "metadata": {},
   "outputs": [],
   "source": [
    "# Funzione per verificare se la sequenza contiene caratteri non validi\n",
    "def contains_invalid_bases(seq):\n",
    "    # Controlla se la sequenza contiene solo A, T, C, G\n",
    "    valid_bases = {'A', 'T', 'C', 'G'}\n",
    "    for base in seq:\n",
    "        if base not in valid_bases:\n",
    "            seq = seq.replace(base, 'N')\n",
    "    return seq"
   ]
  },
  {
   "cell_type": "code",
   "execution_count": 6,
   "id": "01bb184b-b2be-4efc-8ad8-081e62a2b302",
   "metadata": {},
   "outputs": [],
   "source": [
    "# La directory di output viene passata come primo argomento dallo script bash\n",
    "directory_path = \"/home/musimathicslab/Desktop/fcgr_snmg/covid-fcgr-classification-main/dataset/download/GK/fasta\"\n",
    "directory_path_output = \"/media/musimathicslab/Seagate Basic/fcgr_snmg/9Kmer/GK/img\""
   ]
  },
  {
   "cell_type": "code",
   "execution_count": 7,
   "id": "4f1eea2d-a76d-4ff6-8592-8c20777452f6",
   "metadata": {},
   "outputs": [
    {
     "name": "stdout",
     "output_type": "stream",
     "text": [
      "/home/musimathicslab/Desktop/fcgr_snmg/covid-fcgr-classification-main/dataset/download/GK/fasta/gisaid_hcov-19_2025_03_13_10.fasta is being processed...\n",
      "Totali immagini generate e salvate con successo.\n"
     ]
    }
   ],
   "source": [
    "# Inizializza FCGR\n",
    "fcgr = FCGR(k=9) #numero di k-mers pari a 5\n",
    "\n",
    "# Itera su tutti i file FASTA nella directory specificata\n",
    "for filename in os.listdir(directory_path):\n",
    "    if filename.endswith('.fasta'):  # Controlla l'estensione e il prefisso del file\n",
    "        file_path = os.path.join(directory_path, filename)\n",
    "        print(f\"{file_path} is being processed...\")\n",
    "        \n",
    "        # Legge tutte le sequenze dal file FASTA\n",
    "        for record in SeqIO.parse(file_path, 'fasta'):\n",
    "            #print(f\"{record.id}: {len(record.seq)} nucleotides.\")\n",
    "            \n",
    "            seq = str(record.seq)\n",
    "            #print(f\"{seq[:200]}...\")  # Mostra i primi 200 nucleotidi per esempio\n",
    "            #print(seq[16949])\n",
    "\n",
    "            # Controlla se la sequenza contiene basi non valide\n",
    "            seq = contains_invalid_bases(seq)\n",
    "            \n",
    "            # Calcola FCGR per la sequenza\n",
    "            chaos = fcgr(seq)\n",
    "            \n",
    "            # Genera e salva l'immagine\n",
    "            fcgr.plot(chaos)\n",
    "            \n",
    "            # Pulisce il nome del file per evitare caratteri non validi\n",
    "            cleaned_name = clean_filename(record.id)\n",
    "            image_path = os.path.join(directory_path_output, f\"{cleaned_name}.jpeg\")\n",
    "            \n",
    "            # Salva l'immagine\n",
    "            fcgr.save_img(chaos, path=image_path)\n",
    "            \n",
    "            #print(f\"Immagine per {record.id} generata e salvata con successo.\")\n",
    "\n",
    "print(\"Totali immagini generate e salvate con successo.\")\n"
   ]
  }
 ],
 "metadata": {
  "kernelspec": {
   "display_name": "Python 3 (ipykernel)",
   "language": "python",
   "name": "python3"
  },
  "language_info": {
   "codemirror_mode": {
    "name": "ipython",
    "version": 3
   },
   "file_extension": ".py",
   "mimetype": "text/x-python",
   "name": "python",
   "nbconvert_exporter": "python",
   "pygments_lexer": "ipython3",
   "version": "3.11.11"
  }
 },
 "nbformat": 4,
 "nbformat_minor": 5
}
